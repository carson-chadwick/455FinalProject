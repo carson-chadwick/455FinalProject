{
 "cells": [
  {
   "cell_type": "code",
   "execution_count": 1,
   "metadata": {},
   "outputs": [],
   "source": [
    "import pandas as pd\n",
    "from sklearn.feature_extraction.text import TfidfVectorizer\n",
    "from sklearn.metrics.pairwise import linear_kernel\n",
    "\n",
    "# 1. Load data and remove duplicates\n",
    "df = pd.read_csv(\"shared_articles.csv\")\n",
    "df.dropna(subset=[\"text\", \"title\"], inplace=True)\n",
    "df = df.drop_duplicates(subset=\"contentId\")\n",
    "\n",
    "# 2. Build TF-IDF matrix and cosine similarity\n",
    "tfidf = TfidfVectorizer(stop_words='english')\n",
    "tfidf_matrix = tfidf.fit_transform(df['text'])\n",
    "cosine_sim = linear_kernel(tfidf_matrix, tfidf_matrix)\n",
    "\n",
    "# 3. Similarity matrix using contentId as index/columns\n",
    "df_results = pd.DataFrame(cosine_sim, index=df['contentId'], columns=df['contentId'])\n",
    "\n",
    "# 4. Define content recommender\n",
    "def recommend_content(content_id, top_k=5):\n",
    "    try:\n",
    "        if content_id not in df_results.index:\n",
    "            return []\n",
    "        sim_scores = df_results.loc[content_id]\n",
    "        top_ids = sim_scores.sort_values(ascending=False).drop(content_id).head(top_k).index.tolist()\n",
    "        return top_ids\n",
    "    except Exception as e:\n",
    "        print(f\"Error in recommend_content({content_id}): {e}\")\n",
    "        return []\n",
    "\n",
    "# 5. Build recommendation CSV\n",
    "results = []\n",
    "\n",
    "for content_id in df['contentId']:\n",
    "    try:\n",
    "        rec_ids = recommend_content(content_id, top_k=5)\n",
    "        titles = [df.loc[df['contentId'] == rid, \"title\"].values[0] if rid in df['contentId'].values else \"Unknown\" for rid in rec_ids]\n",
    "        row = {\"contentId\": content_id}\n",
    "        for i, title in enumerate(titles):\n",
    "            row[f\"recommendationTitle{i+1}\"] = title\n",
    "        results.append(row)\n",
    "    except Exception as e:\n",
    "        print(f\"Skipping contentId {content_id} due to error: {type(e).__name__} - {e}\")\n",
    "\n",
    "pd.DataFrame(results).to_csv(\"ContentFiltering.csv\", index=False)\n"
   ]
  }
 ],
 "metadata": {
  "kernelspec": {
   "display_name": "Python 3",
   "language": "python",
   "name": "python3"
  },
  "language_info": {
   "codemirror_mode": {
    "name": "ipython",
    "version": 3
   },
   "file_extension": ".py",
   "mimetype": "text/x-python",
   "name": "python",
   "nbconvert_exporter": "python",
   "pygments_lexer": "ipython3",
   "version": "3.12.1"
  }
 },
 "nbformat": 4,
 "nbformat_minor": 2
}
